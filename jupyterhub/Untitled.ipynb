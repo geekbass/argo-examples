{
 "cells": [
  {
   "cell_type": "code",
   "execution_count": null,
   "id": "1f8156fb",
   "metadata": {},
   "outputs": [],
   "source": [
    "import os\n",
    "from pyspark import SparkContext, SparkConf\n",
    "from pyspark.sql import SparkSession"
   ]
  },
  {
   "cell_type": "code",
   "execution_count": null,
   "id": "89b66cad",
   "metadata": {},
   "outputs": [],
   "source": [
    "sparkConf = SparkConf()\n",
    "sparkConf.setMaster(\"k8s://https://kubernetes.default.svc.cluster.local:443\")\n",
    "sparkConf.setAppName(\"test-spark-app\")\n",
    "sparkConf.set(\"spark.kubernetes.container.image\", \"wbassler/pyspark-aws:3.1.2\")\n",
    "sparkConf.set(\"spark.kubernetes.namespace\", \"spark\")\n",
    "sparkConf.set(\"spark.executor.instances\", \"1\")\n",
    "sparkConf.set(\"spark.executor.cores\", \"1\")\n",
    "# Testing memory is used to override the min of what the actual needs\n",
    "sparkConf.set(\"spark.testing.memory\", \"2147480000\")\n",
    "sparkConf.set(\"spark.executor.memory\", \"1g\")\n",
    "sparkConf.set(\"spark.kubernetes.pyspark.pythonVersion\", \"3\")\n",
    "sparkConf.set(\"spark.kubernetes.authenticate.driver.serviceAccountName\", \"spark\")\n",
    "sparkConf.set(\"spark.kubernetes.authenticate.serviceAccountName\", \"spark\")\n",
    "sparkConf.set(\"spark.driver.port\", \"2222\")\n",
    "sparkConf.set(\"spark.driver.host\", \"driver-service.jupyterhub.svc.cluster.local\")\n",
    "sparkConf.set(\"spark.driver.bindAddress\", \"0.0.0.0\")\n",
    "sparkConf.set(\"spark.eventLog.dir\", \"s3a://spark-history/logs/\")\n",
    "sparkConf.set(\"spark.eventLog.enabled\", True)\n",
    "###### S3 Information for Minio\n",
    "sparkConf.set(\"spark.hadoop.fs.s3a.access.key\", \"minio\")\n",
    "sparkConf.set(\"spark.hadoop.fs.s3a.secret.key\", \"minio123\")\n",
    "sparkConf.set(\"spark.hadoop.fs.s3a.endpoint\", \"mlflow-minio-service.mlflow.svc.cluster.local:9000\")\n",
    "sparkConf.set(\"spark.hadoop.fs.s3a.path.style.access\", True)\n",
    "sparkConf.set(\"spark.hadoop.fs.s3a.connection.ssl.enabled\", False)\n",
    "sparkConf.set(\"spark.hadoop.com.amazonaws.services.s3.enableV4\", True)\n",
    "sparkConf.set(\"spark.hadoop.fs.s3a.impl\", \"org.apache.hadoop.fs.s3a.S3AFileSystem\")\n",
    "\n",
    "###### Ignite the Worker Nodes\n",
    "spark = SparkSession.builder.config(conf=sparkConf).getOrCreate()\n",
    "sc = spark.sparkContext"
   ]
  },
  {
   "cell_type": "code",
   "execution_count": null,
   "id": "08e0f1d8",
   "metadata": {},
   "outputs": [],
   "source": [
    "from random import random\n",
    "from operator import add\n",
    "partitions = 7\n",
    "n = 10000000 * partitions\n",
    "\n",
    "def f(_):\n",
    "    x = random() * 2 - 1\n",
    "    y = random() * 2 - 1\n",
    "    \n",
    "    return 1 if x ** 2 + y ** 2 <= 1 else 0\n",
    "\n",
    "count = sc.parallelize(range(1, n + 1), partitions).map(f).reduce(add)"
   ]
  },
  {
   "cell_type": "code",
   "execution_count": null,
   "id": "a09cb49e",
   "metadata": {},
   "outputs": [],
   "source": [
    "print(\"Pi is roughly %f\" % (4.0 * count / n))"
   ]
  },
  {
   "cell_type": "code",
   "execution_count": null,
   "id": "2fe14465",
   "metadata": {},
   "outputs": [],
   "source": [
    "sc.stop()"
   ]
  }
 ],
 "metadata": {
  "kernelspec": {
   "display_name": "Python 3",
   "language": "python",
   "name": "python3"
  },
  "language_info": {
   "codemirror_mode": {
    "name": "ipython",
    "version": 3
   },
   "file_extension": ".py",
   "mimetype": "text/x-python",
   "name": "python",
   "nbconvert_exporter": "python",
   "pygments_lexer": "ipython3",
   "version": "3.7.3"
  }
 },
 "nbformat": 4,
 "nbformat_minor": 5
}
